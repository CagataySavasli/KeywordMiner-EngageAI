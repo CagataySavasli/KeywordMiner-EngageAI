{
 "cells": [
  {
   "cell_type": "code",
   "id": "initial_id",
   "metadata": {
    "collapsed": true,
    "ExecuteTime": {
     "end_time": "2024-11-28T22:46:32.111817Z",
     "start_time": "2024-11-28T22:46:28.357186Z"
    }
   },
   "source": [
    "import pandas as pd\n",
    "import re\n",
    "import string\n",
    "import nltk\n",
    "\n",
    "from Keywords_Extractor_Factory import keyword_extractor_factory, stop_words, lemmatizer\n"
   ],
   "outputs": [
    {
     "name": "stderr",
     "output_type": "stream",
     "text": [
      "[nltk_data] Downloading package stopwords to\n",
      "[nltk_data]     /Users/cagatay/nltk_data...\n",
      "[nltk_data]   Package stopwords is already up-to-date!\n",
      "[nltk_data] Downloading package wordnet to /Users/cagatay/nltk_data...\n",
      "[nltk_data]   Package wordnet is already up-to-date!\n",
      "[nltk_data] Downloading package omw-1.4 to /Users/cagatay/nltk_data...\n",
      "[nltk_data]   Package omw-1.4 is already up-to-date!\n"
     ]
    }
   ],
   "execution_count": 1
  },
  {
   "metadata": {
    "ExecuteTime": {
     "end_time": "2024-11-28T22:46:32.146456Z",
     "start_time": "2024-11-28T22:46:32.112776Z"
    }
   },
   "cell_type": "code",
   "source": [
    "data = pd.read_csv('src/datas/us_elections_news.csv')\n",
    "data = data.drop_duplicates(subset=['date', 'title', 'text'])"
   ],
   "id": "28a2d9e3c78d0945",
   "outputs": [],
   "execution_count": 2
  },
  {
   "metadata": {
    "ExecuteTime": {
     "end_time": "2024-11-28T22:46:32.149130Z",
     "start_time": "2024-11-28T22:46:32.147100Z"
    }
   },
   "cell_type": "code",
   "source": [
    "def preprocess_news(text: str) -> str:\n",
    "    text = text.lower()\n",
    "    \n",
    "    text = text.translate(str.maketrans('', '', string.punctuation))\n",
    "    text = re.sub(r'\\d+', '', text)\n",
    "    \n",
    "    words = text.split()\n",
    "    words = [word for word in words if word not in stop_words]\n",
    "    \n",
    "    words = [lemmatizer.lemmatize(word) for word in words]\n",
    "    \n",
    "    # Temizlenmiş metni birleştir\n",
    "    return ' '.join(words)"
   ],
   "id": "1cad25b5281bed3b",
   "outputs": [],
   "execution_count": 3
  },
  {
   "metadata": {
    "ExecuteTime": {
     "end_time": "2024-11-28T22:46:32.156768Z",
     "start_time": "2024-11-28T22:46:32.150231Z"
    }
   },
   "cell_type": "code",
   "source": "data ",
   "id": "162ed853e2c82c71",
   "outputs": [
    {
     "data": {
      "text/plain": [
       "                              date       key_word  \\\n",
       "0    Tue, 19 Nov 2024 08:00:00 GMT   US elections   \n",
       "1    Sat, 09 Nov 2024 08:00:00 GMT   US elections   \n",
       "2    Wed, 06 Nov 2024 08:00:00 GMT   US elections   \n",
       "3    Wed, 30 Oct 2024 07:00:00 GMT   US elections   \n",
       "4    Tue, 05 Nov 2024 08:00:00 GMT   US elections   \n",
       "..                             ...            ...   \n",
       "231  Fri, 25 Oct 2024 07:00:00 GMT  Kemala Harris   \n",
       "232  Fri, 01 Nov 2024 07:00:00 GMT  Kemala Harris   \n",
       "233  Thu, 31 Oct 2024 07:00:00 GMT  Kemala Harris   \n",
       "234  Fri, 01 Nov 2024 07:00:00 GMT  Kemala Harris   \n",
       "235  Tue, 29 Oct 2024 07:00:00 GMT  Kemala Harris   \n",
       "\n",
       "                                                 title  \\\n",
       "0    U.S. Elections Analysis 2024: Key Outcomes & I...   \n",
       "1    I spent hours trying to persuade US voters to ...   \n",
       "2    US elections showed resilience of democratic i...   \n",
       "3    The US elections: campaign, transition and ina...   \n",
       "4    Donald Trump wins 2024 US election in historic...   \n",
       "..                                                 ...   \n",
       "231  Can Liz Cheney help Kamala Harris election cam...   \n",
       "232  Kamala Harris leads Donald Trump narrowly in Y...   \n",
       "233       Why I’m Voting for Kamala Harris - Bloomberg   \n",
       "234  Iowa Poll: Kamala Harris leapfrogs Donald Trum...   \n",
       "235  What Africa can expect under a Kamala Harris a...   \n",
       "\n",
       "                                                  text  \\\n",
       "0    Last updated Nov. 19, 2024.\\n\\nExecutive Summa...   \n",
       "1    It has been an extraordinary week for US polit...   \n",
       "2    WASHINGTON D.C., 6 November 2024 – Engagement ...   \n",
       "3    Theme\\n\\nWhich are the various elements –beyon...   \n",
       "4    Donald Trump sweeps to victory\\n\\nBrandon Live...   \n",
       "..                                                 ...   \n",
       "231  Polls suggest some Republican voters are willi...   \n",
       "232  The third and final release of our model estim...   \n",
       "233  I do not agree with Vice President Kamala Harr...   \n",
       "234  Democrat Kamala Harris leads Donald Trump in I...   \n",
       "235  Read “What Africa can expect under a second Tr...   \n",
       "\n",
       "                                           description  \\\n",
       "0    U.S. Elections Analysis 2024: Key Outcomes & I...   \n",
       "1    I spent hours trying to persuade US voters to ...   \n",
       "2    US elections showed resilience of democratic i...   \n",
       "3    The US elections: campaign, transition and ina...   \n",
       "4    Donald Trump wins 2024 US election in historic...   \n",
       "..                                                 ...   \n",
       "231  Can Liz Cheney help Kamala Harris election cam...   \n",
       "232  Kamala Harris leads Donald Trump narrowly in Y...   \n",
       "233        Why I’m Voting for Kamala Harris  Bloomberg   \n",
       "234  Iowa Poll: Kamala Harris leapfrogs Donald Trum...   \n",
       "235  What Africa can expect under a Kamala Harris a...   \n",
       "\n",
       "                            publisher  \\\n",
       "0    National Association of Counties   \n",
       "1                        The Guardian   \n",
       "2                                OSCE   \n",
       "3               Real Instituto Elcano   \n",
       "4                             BBC.com   \n",
       "..                                ...   \n",
       "231                Al Jazeera English   \n",
       "232                         YouGov US   \n",
       "233                         Bloomberg   \n",
       "234               Des Moines Register   \n",
       "235                  Atlantic Council   \n",
       "\n",
       "                                                   url  \n",
       "0    https://www.naco.org/resource/us-elections-ana...  \n",
       "1    https://www.theguardian.com/commentisfree/2024...  \n",
       "2      https://www.osce.org/odihr/elections/usa/580111  \n",
       "3    https://www.realinstitutoelcano.org/en/analyse...  \n",
       "4           https://www.bbc.com/news/live/czxrnw5qrprt  \n",
       "..                                                 ...  \n",
       "231  https://www.aljazeera.com/news/2024/10/25/can-...  \n",
       "232  https://today.yougov.com/politics/articles/508...  \n",
       "233  https://www.bloomberg.com/opinion/articles/202...  \n",
       "234  https://www.desmoinesregister.com/story/news/p...  \n",
       "235  https://www.atlanticcouncil.org/blogs/africaso...  \n",
       "\n",
       "[227 rows x 7 columns]"
      ],
      "text/html": [
       "<div>\n",
       "<style scoped>\n",
       "    .dataframe tbody tr th:only-of-type {\n",
       "        vertical-align: middle;\n",
       "    }\n",
       "\n",
       "    .dataframe tbody tr th {\n",
       "        vertical-align: top;\n",
       "    }\n",
       "\n",
       "    .dataframe thead th {\n",
       "        text-align: right;\n",
       "    }\n",
       "</style>\n",
       "<table border=\"1\" class=\"dataframe\">\n",
       "  <thead>\n",
       "    <tr style=\"text-align: right;\">\n",
       "      <th></th>\n",
       "      <th>date</th>\n",
       "      <th>key_word</th>\n",
       "      <th>title</th>\n",
       "      <th>text</th>\n",
       "      <th>description</th>\n",
       "      <th>publisher</th>\n",
       "      <th>url</th>\n",
       "    </tr>\n",
       "  </thead>\n",
       "  <tbody>\n",
       "    <tr>\n",
       "      <th>0</th>\n",
       "      <td>Tue, 19 Nov 2024 08:00:00 GMT</td>\n",
       "      <td>US elections</td>\n",
       "      <td>U.S. Elections Analysis 2024: Key Outcomes &amp; I...</td>\n",
       "      <td>Last updated Nov. 19, 2024.\\n\\nExecutive Summa...</td>\n",
       "      <td>U.S. Elections Analysis 2024: Key Outcomes &amp; I...</td>\n",
       "      <td>National Association of Counties</td>\n",
       "      <td>https://www.naco.org/resource/us-elections-ana...</td>\n",
       "    </tr>\n",
       "    <tr>\n",
       "      <th>1</th>\n",
       "      <td>Sat, 09 Nov 2024 08:00:00 GMT</td>\n",
       "      <td>US elections</td>\n",
       "      <td>I spent hours trying to persuade US voters to ...</td>\n",
       "      <td>It has been an extraordinary week for US polit...</td>\n",
       "      <td>I spent hours trying to persuade US voters to ...</td>\n",
       "      <td>The Guardian</td>\n",
       "      <td>https://www.theguardian.com/commentisfree/2024...</td>\n",
       "    </tr>\n",
       "    <tr>\n",
       "      <th>2</th>\n",
       "      <td>Wed, 06 Nov 2024 08:00:00 GMT</td>\n",
       "      <td>US elections</td>\n",
       "      <td>US elections showed resilience of democratic i...</td>\n",
       "      <td>WASHINGTON D.C., 6 November 2024 – Engagement ...</td>\n",
       "      <td>US elections showed resilience of democratic i...</td>\n",
       "      <td>OSCE</td>\n",
       "      <td>https://www.osce.org/odihr/elections/usa/580111</td>\n",
       "    </tr>\n",
       "    <tr>\n",
       "      <th>3</th>\n",
       "      <td>Wed, 30 Oct 2024 07:00:00 GMT</td>\n",
       "      <td>US elections</td>\n",
       "      <td>The US elections: campaign, transition and ina...</td>\n",
       "      <td>Theme\\n\\nWhich are the various elements –beyon...</td>\n",
       "      <td>The US elections: campaign, transition and ina...</td>\n",
       "      <td>Real Instituto Elcano</td>\n",
       "      <td>https://www.realinstitutoelcano.org/en/analyse...</td>\n",
       "    </tr>\n",
       "    <tr>\n",
       "      <th>4</th>\n",
       "      <td>Tue, 05 Nov 2024 08:00:00 GMT</td>\n",
       "      <td>US elections</td>\n",
       "      <td>Donald Trump wins 2024 US election in historic...</td>\n",
       "      <td>Donald Trump sweeps to victory\\n\\nBrandon Live...</td>\n",
       "      <td>Donald Trump wins 2024 US election in historic...</td>\n",
       "      <td>BBC.com</td>\n",
       "      <td>https://www.bbc.com/news/live/czxrnw5qrprt</td>\n",
       "    </tr>\n",
       "    <tr>\n",
       "      <th>...</th>\n",
       "      <td>...</td>\n",
       "      <td>...</td>\n",
       "      <td>...</td>\n",
       "      <td>...</td>\n",
       "      <td>...</td>\n",
       "      <td>...</td>\n",
       "      <td>...</td>\n",
       "    </tr>\n",
       "    <tr>\n",
       "      <th>231</th>\n",
       "      <td>Fri, 25 Oct 2024 07:00:00 GMT</td>\n",
       "      <td>Kemala Harris</td>\n",
       "      <td>Can Liz Cheney help Kamala Harris election cam...</td>\n",
       "      <td>Polls suggest some Republican voters are willi...</td>\n",
       "      <td>Can Liz Cheney help Kamala Harris election cam...</td>\n",
       "      <td>Al Jazeera English</td>\n",
       "      <td>https://www.aljazeera.com/news/2024/10/25/can-...</td>\n",
       "    </tr>\n",
       "    <tr>\n",
       "      <th>232</th>\n",
       "      <td>Fri, 01 Nov 2024 07:00:00 GMT</td>\n",
       "      <td>Kemala Harris</td>\n",
       "      <td>Kamala Harris leads Donald Trump narrowly in Y...</td>\n",
       "      <td>The third and final release of our model estim...</td>\n",
       "      <td>Kamala Harris leads Donald Trump narrowly in Y...</td>\n",
       "      <td>YouGov US</td>\n",
       "      <td>https://today.yougov.com/politics/articles/508...</td>\n",
       "    </tr>\n",
       "    <tr>\n",
       "      <th>233</th>\n",
       "      <td>Thu, 31 Oct 2024 07:00:00 GMT</td>\n",
       "      <td>Kemala Harris</td>\n",
       "      <td>Why I’m Voting for Kamala Harris - Bloomberg</td>\n",
       "      <td>I do not agree with Vice President Kamala Harr...</td>\n",
       "      <td>Why I’m Voting for Kamala Harris  Bloomberg</td>\n",
       "      <td>Bloomberg</td>\n",
       "      <td>https://www.bloomberg.com/opinion/articles/202...</td>\n",
       "    </tr>\n",
       "    <tr>\n",
       "      <th>234</th>\n",
       "      <td>Fri, 01 Nov 2024 07:00:00 GMT</td>\n",
       "      <td>Kemala Harris</td>\n",
       "      <td>Iowa Poll: Kamala Harris leapfrogs Donald Trum...</td>\n",
       "      <td>Democrat Kamala Harris leads Donald Trump in I...</td>\n",
       "      <td>Iowa Poll: Kamala Harris leapfrogs Donald Trum...</td>\n",
       "      <td>Des Moines Register</td>\n",
       "      <td>https://www.desmoinesregister.com/story/news/p...</td>\n",
       "    </tr>\n",
       "    <tr>\n",
       "      <th>235</th>\n",
       "      <td>Tue, 29 Oct 2024 07:00:00 GMT</td>\n",
       "      <td>Kemala Harris</td>\n",
       "      <td>What Africa can expect under a Kamala Harris a...</td>\n",
       "      <td>Read “What Africa can expect under a second Tr...</td>\n",
       "      <td>What Africa can expect under a Kamala Harris a...</td>\n",
       "      <td>Atlantic Council</td>\n",
       "      <td>https://www.atlanticcouncil.org/blogs/africaso...</td>\n",
       "    </tr>\n",
       "  </tbody>\n",
       "</table>\n",
       "<p>227 rows × 7 columns</p>\n",
       "</div>"
      ]
     },
     "execution_count": 4,
     "metadata": {},
     "output_type": "execute_result"
    }
   ],
   "execution_count": 4
  },
  {
   "metadata": {
    "ExecuteTime": {
     "end_time": "2024-11-28T22:46:32.168861Z",
     "start_time": "2024-11-28T22:46:32.157365Z"
    }
   },
   "cell_type": "code",
   "source": "data['wc'] = data['text'].apply(lambda x: len(x.split()))",
   "id": "2b2873b9515749db",
   "outputs": [],
   "execution_count": 5
  },
  {
   "metadata": {
    "ExecuteTime": {
     "end_time": "2024-11-28T22:46:32.172173Z",
     "start_time": "2024-11-28T22:46:32.169494Z"
    }
   },
   "cell_type": "code",
   "source": "sum(data['wc'])/len(data)",
   "id": "ffd3e42628f0e17f",
   "outputs": [
    {
     "data": {
      "text/plain": [
       "1078.339207048458"
      ]
     },
     "execution_count": 6,
     "metadata": {},
     "output_type": "execute_result"
    }
   ],
   "execution_count": 6
  },
  {
   "metadata": {
    "ExecuteTime": {
     "end_time": "2024-11-28T22:46:32.174619Z",
     "start_time": "2024-11-28T22:46:32.172919Z"
    }
   },
   "cell_type": "code",
   "source": "news = data['text'].to_list()",
   "id": "1d6669b3324e3d27",
   "outputs": [],
   "execution_count": 7
  },
  {
   "metadata": {
    "ExecuteTime": {
     "end_time": "2024-11-28T22:46:34.569170Z",
     "start_time": "2024-11-28T22:46:32.175325Z"
    }
   },
   "cell_type": "code",
   "source": [
    "preprocessed_news = []\n",
    "for new in news:\n",
    "    preprocessed_news.append(preprocess_news(new))"
   ],
   "id": "75b114693e75b918",
   "outputs": [],
   "execution_count": 8
  },
  {
   "metadata": {
    "ExecuteTime": {
     "end_time": "2024-11-28T22:46:34.668844Z",
     "start_time": "2024-11-28T22:46:34.570342Z"
    }
   },
   "cell_type": "code",
   "source": [
    "tf_idf_results_raw = keyword_extractor_factory(\"TF-IDF\", news, 10)\n",
    "print(sorted(tf_idf_results_raw))"
   ],
   "id": "ff1064923e71b5be",
   "outputs": [
    {
     "name": "stdout",
     "output_type": "stream",
     "text": [
      "['biden', 'campaign', 'election', 'harris', 'people', 'president', 'said', 'states', 'trump', 'voters']\n"
     ]
    }
   ],
   "execution_count": 9
  },
  {
   "metadata": {
    "ExecuteTime": {
     "end_time": "2024-11-28T22:46:34.738037Z",
     "start_time": "2024-11-28T22:46:34.671872Z"
    }
   },
   "cell_type": "code",
   "source": [
    "tf_idf_results = keyword_extractor_factory(\"TF-IDF\", preprocessed_news, 10)\n",
    "print(sorted(tf_idf_results))"
   ],
   "id": "2eca3dd1df5d0955",
   "outputs": [
    {
     "name": "stdout",
     "output_type": "stream",
     "text": [
      "['campaign', 'election', 'harris', 'president', 'said', 'state', 'tax', 'trump', 'vote', 'voter']\n"
     ]
    }
   ],
   "execution_count": 10
  },
  {
   "metadata": {
    "ExecuteTime": {
     "end_time": "2024-11-28T22:46:35.183903Z",
     "start_time": "2024-11-28T22:46:34.738676Z"
    }
   },
   "cell_type": "code",
   "source": [
    "word2vec_results_raw = keyword_extractor_factory(\"Word2Vec\", news, 10)\n",
    "print(sorted(word2vec_results_raw))"
   ],
   "id": "a39e70e348dfa69f",
   "outputs": [
    {
     "name": "stdout",
     "output_type": "stream",
     "text": [
      "['biden', 'campaign', 'election', 'harris', 'president', 'said', 'states', 'trump', 'us', 'would']\n"
     ]
    }
   ],
   "execution_count": 11
  },
  {
   "metadata": {
    "ExecuteTime": {
     "end_time": "2024-11-28T22:46:35.569991Z",
     "start_time": "2024-11-28T22:46:35.184511Z"
    }
   },
   "cell_type": "code",
   "source": [
    "word2vec_results = keyword_extractor_factory(\"Word2Vec\", preprocessed_news, 10)\n",
    "print(sorted(word2vec_results))"
   ],
   "id": "b107468b7de4df6e",
   "outputs": [
    {
     "name": "stdout",
     "output_type": "stream",
     "text": [
      "['campaign', 'election', 'harris', 'president', 'said', 'state', 'trump', 'u', 'vote', 'would']\n"
     ]
    }
   ],
   "execution_count": 12
  },
  {
   "metadata": {
    "ExecuteTime": {
     "end_time": "2024-11-28T22:49:19.515816Z",
     "start_time": "2024-11-28T22:46:35.570718Z"
    }
   },
   "cell_type": "code",
   "source": [
    "bert_results_200 = keyword_extractor_factory(\"BERT\", news, 10, 200)\n",
    "print(sorted(bert_results_200))"
   ],
   "id": "6d4fa9986af83e61",
   "outputs": [
    {
     "name": "stderr",
     "output_type": "stream",
     "text": [
      "Token indices sequence length is longer than the specified maximum sequence length for this model (527 > 512). Running this sequence through the model will result in indexing errors\n",
      "BertSdpaSelfAttention is used but `torch.nn.functional.scaled_dot_product_attention` does not support non-absolute `position_embedding_type` or `output_attentions=True` or `head_mask`. Falling back to the manual attention implementation, but specifying the manual implementation will be required from Transformers version v5.0.0 onwards. This warning can be removed using the argument `attn_implementation=\"eager\"` when loading the model.\n"
     ]
    },
    {
     "name": "stdout",
     "output_type": "stream",
     "text": [
      "['beautifully', 'consult', 'dummy', 'eldest', 'explore', 'friendships', 'harvey', 'meyer', 'railing', 'sample']\n"
     ]
    }
   ],
   "execution_count": 13
  },
  {
   "metadata": {
    "ExecuteTime": {
     "end_time": "2024-11-28T22:52:07.642304Z",
     "start_time": "2024-11-28T22:49:19.519616Z"
    }
   },
   "cell_type": "code",
   "source": [
    "bert_results_400 = keyword_extractor_factory(\"BERT\", news, 10, 400)\n",
    "print(sorted(bert_results_400))"
   ],
   "id": "a0367c8a8b2dd56c",
   "outputs": [
    {
     "name": "stderr",
     "output_type": "stream",
     "text": [
      "Token indices sequence length is longer than the specified maximum sequence length for this model (527 > 512). Running this sequence through the model will result in indexing errors\n"
     ]
    },
    {
     "name": "stdout",
     "output_type": "stream",
     "text": [
      "['alternatively', 'bleed', 'cardiac', 'concentrations', 'dread', 'fearless', 'nodded', 'ousted', 'regulating', 'witness']\n"
     ]
    }
   ],
   "execution_count": 14
  },
  {
   "metadata": {
    "ExecuteTime": {
     "end_time": "2024-11-28T22:55:20.033919Z",
     "start_time": "2024-11-28T22:52:07.646890Z"
    }
   },
   "cell_type": "code",
   "source": [
    "bert_results_500 = keyword_extractor_factory(\"BERT\", news, 10, 500)\n",
    "print(sorted(bert_results_500))"
   ],
   "id": "a3c91dfe65c57577",
   "outputs": [
    {
     "name": "stderr",
     "output_type": "stream",
     "text": [
      "Token indices sequence length is longer than the specified maximum sequence length for this model (527 > 512). Running this sequence through the model will result in indexing errors\n"
     ]
    },
    {
     "name": "stdout",
     "output_type": "stream",
     "text": [
      "['breeding', 'defiance', 'derrick', 'energies', 'erected', 'fearless', 'halfway', 'reacted', 'scowl', 'translators']\n"
     ]
    }
   ],
   "execution_count": 15
  },
  {
   "metadata": {
    "ExecuteTime": {
     "end_time": "2024-11-28T22:55:20.041873Z",
     "start_time": "2024-11-28T22:55:20.035816Z"
    }
   },
   "cell_type": "code",
   "source": [
    "set_tf_idf = set(tf_idf_results)\n",
    "set_word2vec = set(word2vec_results)\n",
    "\n",
    "set_bert_results_200 = set(bert_results_200)\n",
    "set_bert_results_400 = set(bert_results_400)\n",
    "set_bert_results_500 = set(bert_results_500)"
   ],
   "id": "d443297743e798ed",
   "outputs": [],
   "execution_count": 16
  },
  {
   "metadata": {
    "ExecuteTime": {
     "end_time": "2024-11-28T22:55:20.047782Z",
     "start_time": "2024-11-28T22:55:20.043287Z"
    }
   },
   "cell_type": "code",
   "source": [
    "print(\"BERT Intersection :\")\n",
    "set_bert_intersection = set_bert_results_200 & set_bert_results_400 & set_bert_results_500\n",
    "print(set_bert_intersection)"
   ],
   "id": "9d28b1574b018af3",
   "outputs": [
    {
     "name": "stdout",
     "output_type": "stream",
     "text": [
      "BERT Intersection :\n",
      "set()\n"
     ]
    }
   ],
   "execution_count": 17
  },
  {
   "metadata": {
    "ExecuteTime": {
     "end_time": "2024-11-28T22:55:20.051224Z",
     "start_time": "2024-11-28T22:55:20.048737Z"
    }
   },
   "cell_type": "code",
   "source": [
    "print(\"BERT Union :\")\n",
    "set_bert_intersection = set_bert_results_200 | set_bert_results_400 | set_bert_results_500\n",
    "print(set_bert_intersection)"
   ],
   "id": "8bc76d5d31d01a14",
   "outputs": [
    {
     "name": "stdout",
     "output_type": "stream",
     "text": [
      "BERT Union :\n",
      "{'meyer', 'defiance', 'eldest', 'ousted', 'fearless', 'erected', 'harvey', 'friendships', 'reacted', 'halfway', 'dread', 'explore', 'dummy', 'cardiac', 'regulating', 'derrick', 'beautifully', 'alternatively', 'energies', 'witness', 'concentrations', 'scowl', 'nodded', 'breeding', 'bleed', 'translators', 'sample', 'railing', 'consult'}\n"
     ]
    }
   ],
   "execution_count": 18
  },
  {
   "metadata": {
    "ExecuteTime": {
     "end_time": "2024-11-28T22:55:20.053798Z",
     "start_time": "2024-11-28T22:55:20.052303Z"
    }
   },
   "cell_type": "code",
   "source": "",
   "id": "607608a7b75809cc",
   "outputs": [],
   "execution_count": 18
  }
 ],
 "metadata": {
  "kernelspec": {
   "display_name": "Python 3",
   "language": "python",
   "name": "python3"
  },
  "language_info": {
   "codemirror_mode": {
    "name": "ipython",
    "version": 2
   },
   "file_extension": ".py",
   "mimetype": "text/x-python",
   "name": "python",
   "nbconvert_exporter": "python",
   "pygments_lexer": "ipython2",
   "version": "2.7.6"
  }
 },
 "nbformat": 4,
 "nbformat_minor": 5
}
